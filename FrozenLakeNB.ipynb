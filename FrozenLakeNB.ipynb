{
 "cells": [
  {
   "cell_type": "markdown",
   "metadata": {
    "collapsed": true,
    "pycharm": {
     "name": "#%% md\n"
    }
   },
   "source": [
    "# Reinforcment Learning Assignment\n",
    "## Q-Learning with Frozen Lake\n",
    "### Eoin Mc Allister - 20232319\n",
    "\n",
    "Create FrozenLake and apply Q-Learning to an agent that exists within the enviroemnt\n"
   ]
  },
  {
   "cell_type": "code",
   "source": [
    "import numpy as np\n",
    "import pandas as pd\n",
    "\n",
    "from matplotlib import pyplot as plt\n"
   ],
   "metadata": {
    "collapsed": false,
    "pycharm": {
     "name": "#%%\n"
    }
   },
   "execution_count": 67,
   "outputs": []
  },
  {
   "cell_type": "markdown",
   "source": [
    "### Game Parameters\n",
    "Epsilon = 0.1 was not used here as an epsilon decay strategy was used which gave nicer results. rand num <= E gave a graph that didnt show much. Hard to measure performance as theres a 10% the agent does something random"
   ],
   "metadata": {
    "collapsed": false,
    "pycharm": {
     "name": "#%% md\n"
    }
   }
  },
  {
   "cell_type": "code",
   "execution_count": 68,
   "outputs": [],
   "source": [
    "BoardSize = (5, 5)                  # Size of the Frozen Lake environment\n",
    "WinPos = (4, 4)                     # The Position the Agent much try and reach\n",
    "StartPos = (0, 0)                   # Where the agent starts\n",
    "\n",
    "TerminalReward = 10                 # The reward for reaching the WinPos\n",
    "HoleReward = -5                     # The reward for falling into a hole in the lake\n",
    "TransitionReward = -1               # The reward for moving through the environment\n",
    "\n",
    "HolePos = (1, 0), \\\n",
    "          (1, 3), \\\n",
    "          (3, 1), \\\n",
    "          (4, 2)                    # Positions of all the holes in the Lake\n",
    "\n",
    "UP = 0\n",
    "DOWN = 1\n",
    "LEFT = 2\n",
    "RIGHT = 3\n",
    "NumActions = 4                      # Possible Actions\n",
    "\n",
    "num_episodes = 10000                # Number of times the agent will play the game\n",
    "max_steps_per_episode = 1000        # Max Number of steps before game ends\n",
    "\n",
    "alpha = 0.5                         # Learning Rate for Q-Table Updates\n",
    "gamma = 0.9                         # Discount Rate for Q-Table Updates\n",
    "epsilon = 1.0                       # Epsilon Value for E-Greedy Strategy\n",
    "min_epsilon = 0.1                   # Minimum Value for Epsilon\n",
    "epsilon_decay = 0.9996              # Decay rate of Epsilon\n",
    "\n",
    "q_table = np.zeros((                # Creates the Q-Table in the Shape of Number of Positions * Number of Actions\n",
    "    BoardSize[0] * BoardSize[1],\n",
    "    NumActions))\n",
    "\n",
    "rewards_all_episodes = []           # Array to hold Rewards from each Episode"
   ],
   "metadata": {
    "collapsed": false,
    "pycharm": {
     "name": "#%%\n"
    }
   }
  },
  {
   "cell_type": "markdown",
   "source": [
    "## Frozen Lake Environment\n",
    "Creates the frozen lake environment with capabilities of moving around and processing rewards"
   ],
   "metadata": {
    "collapsed": false
   }
  },
  {
   "cell_type": "code",
   "execution_count": 69,
   "outputs": [],
   "source": [
    "class Lake:\n",
    "    def __init__(self,\n",
    "                 state=StartPos,\n",
    "                 end_pos=WinPos,\n",
    "                 map_size=BoardSize,\n",
    "                 holes=HolePos,\n",
    "                 actions=(UP, DOWN, LEFT, RIGHT),\n",
    "                 rewards=(TerminalReward, HoleReward, TransitionReward)):\n",
    "\n",
    "        self.state = state\n",
    "        self.done = False\n",
    "        self.end_pos = end_pos\n",
    "\n",
    "        self.nrow, self.ncol = map_size\n",
    "        self.holes = holes\n",
    "        self.actions = actions\n",
    "\n",
    "        self.r_terminal, self.r_hole, self.r_transition = rewards\n",
    "\n",
    "        self.ending_array = []\n",
    "\n",
    "        self.map = self._gen_map()\n",
    "        print('\\n')\n",
    "        print('Map')\n",
    "        print(self.map)\n",
    "\n",
    "    def _gen_map(self):\n",
    "        \"\"\"\n",
    "        Generates the Frozen Lake\n",
    "        :return: the map\n",
    "        \"\"\"\n",
    "        mp = [['F' for _ in range(self.ncol)] for _ in range(self.nrow)]\n",
    "        mp[self.state[0]][self.state[1]] = 'S'\n",
    "        mp[self.end_pos[0]][self.end_pos[1]] = 'G'\n",
    "        for h in self.holes:\n",
    "            mp[h[0]][h[1]] = 'H'\n",
    "        mp = [\"\".join(x) for x in mp]\n",
    "        return np.asarray(mp, dtype='c')\n",
    "\n",
    "    def get_reward(self):\n",
    "        \"\"\"\n",
    "        Gets the reward returned for landing on the current state\n",
    "        :return:\n",
    "        \"\"\"\n",
    "        letter = self.map[self.state[0]][self.state[1]]\n",
    "        reward = 0\n",
    "        if letter in b'G':\n",
    "            reward = self.r_terminal\n",
    "        elif letter in b'H':\n",
    "            reward = self.r_hole\n",
    "        # Start is included as if start pos is by an edge, moving towards said edge\n",
    "        # will result in landing in the same spot and this counts as a transition\n",
    "        elif letter in b'FS':\n",
    "            reward = self.r_transition\n",
    "        return reward\n",
    "\n",
    "    def move(self, act):\n",
    "        \"\"\"\n",
    "        Moves the agent from the current position to a new position based on the action passed\n",
    "        :param act: Which Action is being taken\n",
    "        \"\"\"\n",
    "        row, col = self.state[0], self.state[1]\n",
    "\n",
    "        if act == UP:\n",
    "            row = max(row - 1, 0)\n",
    "        elif act == DOWN:\n",
    "            row = min(row + 1, self.nrow - 1)\n",
    "        elif act == LEFT:\n",
    "            col = max(col - 1, 0)\n",
    "        elif act == RIGHT:\n",
    "            col = min(col + 1, self.ncol - 1)\n",
    "        self.state = (row, col)\n",
    "\n",
    "    def is_done(self):\n",
    "        \"\"\"\n",
    "        Determines if the agent is done - Has reached a hole or a goal\n",
    "        \"\"\"\n",
    "        self.done = bytes(self.map[self.state[0]][self.state[1]]) in b'GH'\n",
    "        let = self.map[self.state[0]][self.state[1]]\n",
    "        if self.done:\n",
    "            self.ending_array.append([1 if let in b'G' else 0])\n",
    "        if self.done:\n",
    "            self.state = StartPos\n",
    "        return self.done\n",
    "\n",
    "    def step(self, action):\n",
    "        self.move(action)  # Make agent take action and move to new state\n",
    "        reward = self.get_reward()  # Get reward for taking that action\n",
    "        done = self.is_done()  # Is game done\n",
    "        new_state = self.state[0] * 5 + self.state[1]  # Get the new position of the agent and convert to Q Table lookup\n",
    "\n",
    "        return reward, new_state, done"
   ],
   "metadata": {
    "collapsed": false,
    "pycharm": {
     "name": "#%%\n"
    }
   }
  },
  {
   "cell_type": "markdown",
   "source": [
    "## Playing The Game\n",
    "Creates the environment and allows for movement around the environment. Returns the reward from each position and ends the game if the agent falls in a hole, reaches the end or maxes out steps\n",
    "Returns the updated Q-Table, and the rewards"
   ],
   "metadata": {
    "collapsed": false,
    "pycharm": {
     "name": "#%% md\n"
    }
   }
  },
  {
   "cell_type": "code",
   "execution_count": 70,
   "outputs": [],
   "source": [
    "def game(q_tab, initial_eps):\n",
    "    env = Lake()\n",
    "    epsilon = initial_eps\n",
    "    for episode in range(num_episodes):\n",
    "        if episode % 500 == 0:\n",
    "            print('\\n')\n",
    "            print('Episode:', episode + 1, \"/\", num_episodes)\n",
    "        episode_reward = 0\n",
    "        state = env.state[0] * 5 + env.state[1]\n",
    "\n",
    "        epsilon = epsilon * epsilon_decay\n",
    "\n",
    "        for step in range(max_steps_per_episode):\n",
    "\n",
    "            # Get Action based on Greedy Strategy\n",
    "            eps = max(min_epsilon, epsilon)\n",
    "            if np.random.random() <= eps:\n",
    "                action = np.random.randint(0, 4)\n",
    "            else:\n",
    "                action = np.argmax(q_table[state, :])\n",
    "\n",
    "            # Take Action to move to new state and get reward\n",
    "            reward, new_state, done = env.step(action)\n",
    "            episode_reward += reward\n",
    "\n",
    "            # print(reward, new_state, done, action)\n",
    "\n",
    "            # Update Q-Table\n",
    "            q_tab[state, action] = q_tab[state, action] * (1 - alpha) + alpha * (\n",
    "                    reward + gamma * np.max(q_tab[new_state, :]))\n",
    "\n",
    "            state = new_state\n",
    "\n",
    "            # If done go to next episode\n",
    "            if done:\n",
    "                if episode % 500 == 0:\n",
    "                    print('Episode Reward:', episode_reward)\n",
    "                    print('Steps:', step + 1)\n",
    "                rewards_all_episodes.append(episode_reward)\n",
    "                break\n",
    "\n",
    "    return q_tab, rewards_all_episodes, env.ending_array"
   ],
   "metadata": {
    "collapsed": false,
    "pycharm": {
     "name": "#%%\n"
    }
   }
  },
  {
   "cell_type": "markdown",
   "source": [
    "## Plotting Results\n",
    "Plots the results from all episodes"
   ],
   "metadata": {
    "collapsed": false,
    "pycharm": {
     "name": "#%% md\n"
    }
   }
  },
  {
   "cell_type": "code",
   "execution_count": 71,
   "outputs": [],
   "source": [
    "def plot_result(rews, end):\n",
    "    y = np.asarray(rews)\n",
    "\n",
    "    x_wins = np.where(np.asarray(end) == 1)[0]\n",
    "    x_fails = np.where(np.asarray(end) == 0)[0]\n",
    "\n",
    "    y_wins = np.take(y, x_wins)\n",
    "    y_fails = np.take(y, x_fails)\n",
    "\n",
    "    plt.scatter(x=x_wins, y=y_wins, c='g', s=0.8, label='Win')\n",
    "    plt.scatter(x=x_fails, y=y_fails, c='r', s=0.8, label='Fail')\n",
    "\n",
    "    plt.title('Agent Reward Per Episode')\n",
    "    plt.xlabel('Episode')\n",
    "    plt.ylabel('Reward')\n",
    "    plt.legend()\n",
    "    plt.show()"
   ],
   "metadata": {
    "collapsed": false,
    "pycharm": {
     "name": "#%%\n"
    }
   }
  },
  {
   "cell_type": "markdown",
   "source": [
    "## Getting Results"
   ],
   "metadata": {
    "collapsed": false,
    "pycharm": {
     "name": "#%% md\n"
    }
   }
  },
  {
   "cell_type": "code",
   "execution_count": 72,
   "outputs": [
    {
     "name": "stdout",
     "output_type": "stream",
     "text": [
      "\n",
      "\n",
      "Map\n",
      "[[b'S' b'F' b'F' b'F' b'F']\n",
      " [b'H' b'F' b'F' b'H' b'F']\n",
      " [b'F' b'F' b'F' b'F' b'F']\n",
      " [b'F' b'H' b'F' b'F' b'F']\n",
      " [b'F' b'F' b'H' b'F' b'G']]\n",
      "\n",
      "\n",
      "Episode: 1 / 10000\n",
      "Episode Reward: -7\n",
      "Steps: 3\n",
      "\n",
      "\n",
      "Episode: 501 / 10000\n",
      "Episode Reward: -6\n",
      "Steps: 2\n",
      "\n",
      "\n",
      "Episode: 1001 / 10000\n",
      "Episode Reward: -5\n",
      "Steps: 1\n",
      "\n",
      "\n",
      "Episode: 1501 / 10000\n",
      "Episode Reward: 2\n",
      "Steps: 9\n",
      "\n",
      "\n",
      "Episode: 2001 / 10000\n",
      "Episode Reward: -3\n",
      "Steps: 14\n",
      "\n",
      "\n",
      "Episode: 2501 / 10000\n",
      "Episode Reward: 1\n",
      "Steps: 10\n",
      "\n",
      "\n",
      "Episode: 3001 / 10000\n",
      "Episode Reward: 2\n",
      "Steps: 9\n",
      "\n",
      "\n",
      "Episode: 3501 / 10000\n",
      "Episode Reward: -1\n",
      "Steps: 12\n",
      "\n",
      "\n",
      "Episode: 4001 / 10000\n",
      "Episode Reward: -10\n",
      "Steps: 6\n",
      "\n",
      "\n",
      "Episode: 4501 / 10000\n",
      "Episode Reward: 3\n",
      "Steps: 8\n",
      "\n",
      "\n",
      "Episode: 5001 / 10000\n",
      "Episode Reward: 3\n",
      "Steps: 8\n",
      "\n",
      "\n",
      "Episode: 5501 / 10000\n",
      "Episode Reward: 2\n",
      "Steps: 9\n",
      "\n",
      "\n",
      "Episode: 6001 / 10000\n",
      "Episode Reward: 3\n",
      "Steps: 8\n",
      "\n",
      "\n",
      "Episode: 6501 / 10000\n",
      "Episode Reward: 3\n",
      "Steps: 8\n",
      "\n",
      "\n",
      "Episode: 7001 / 10000\n",
      "Episode Reward: 3\n",
      "Steps: 8\n",
      "\n",
      "\n",
      "Episode: 7501 / 10000\n",
      "Episode Reward: 3\n",
      "Steps: 8\n",
      "\n",
      "\n",
      "Episode: 8001 / 10000\n",
      "Episode Reward: 1\n",
      "Steps: 10\n",
      "\n",
      "\n",
      "Episode: 8501 / 10000\n",
      "Episode Reward: 0\n",
      "Steps: 11\n",
      "\n",
      "\n",
      "Episode: 9001 / 10000\n",
      "Episode Reward: 3\n",
      "Steps: 8\n",
      "\n",
      "\n",
      "Episode: 9501 / 10000\n",
      "Episode Reward: 3\n",
      "Steps: 8\n",
      "10000\n",
      "\n",
      "\n",
      "           0         1         2         3\n",
      "0  -1.685923 -5.685923 -1.685923 -0.762137\n",
      "1  -0.762137  0.264292 -1.685923  0.264292\n",
      "2   0.264292  1.404769 -0.762137  1.404769\n",
      "3   1.404769 -5.685923  0.264292  2.671966\n",
      "4   2.671966  4.079962  1.404769  2.671966\n",
      "5   0.000000  0.000000  0.000000  0.000000\n",
      "6  -0.762137  1.404769 -5.685923  1.404769\n",
      "7   0.264292  2.671966  0.264292 -5.685923\n",
      "8   0.000000  0.000000  0.000000  0.000000\n",
      "9   2.671966  5.644402 -5.685923  4.079962\n",
      "10 -5.685933 -0.762209  0.264260  1.404769\n",
      "11  0.264292 -5.685923  0.264292  2.671966\n",
      "12  1.404769  4.079962  1.404769  4.079962\n",
      "13 -5.685923  5.644402  2.671966  5.644402\n",
      "14  4.079962  7.382669  4.079962  5.644402\n",
      "15  0.264283 -2.271502 -2.176453 -5.650254\n",
      "16  0.000000  0.000000  0.000000  0.000000\n",
      "17  2.671966 -5.685923 -5.685923  5.644402\n",
      "18  4.079962  7.382669  4.079962  7.382669\n",
      "19  5.644402  9.314077  5.644402  7.382669\n",
      "20 -1.089573 -2.276094 -2.369473 -2.034750\n",
      "21 -5.273864 -2.069281 -2.350341 -3.135465\n",
      "22  0.000000  0.000000  0.000000  0.000000\n",
      "23  5.644402  7.382669 -5.685923  9.314077\n",
      "24  0.000000  0.000000  0.000000  0.000000\n",
      "\n",
      "\n",
      "Wins: 6483\n",
      "Fails: 3517\n"
     ]
    },
    {
     "data": {
      "text/plain": "<Figure size 432x288 with 1 Axes>",
      "image/png": "[encoded data removed]"
     },
     "metadata": {
      "needs_background": "light"
     },
     "output_type": "display_data"
    }
   ],
   "source": [
    "if __name__ == '__main__':\n",
    "    q_table, rewards, end = game(q_table, epsilon)\n",
    "    print(len(end))\n",
    "\n",
    "    df_q = pd.DataFrame(q_table)\n",
    "\n",
    "    print('\\n')\n",
    "    print(df_q)\n",
    "\n",
    "    print('\\n')\n",
    "    print('Wins:', end.count([1]))\n",
    "    print('Fails:', end.count([0]))\n",
    "\n",
    "    plot_result(rewards, end)"
   ],
   "metadata": {
    "collapsed": false,
    "pycharm": {
     "name": "#%%\n"
    }
   }
  },
  {
   "cell_type": "markdown",
   "source": [
    "## Discussion\n",
    "N.B. A scatter plot was used instead of a line graph as the line graph was extremely unreadable. I feel the scatter plot displayed above gives a much deeper insight to the results. The enviroment is not complex enough to have a line plot which is readable. \n",
    "The agent gas successfully learned how to navigate through the lake. This is shown by the plot which displays the scores of the agent over every episode and whether or not it reached the Goal or not. As the episodes increase we can see less red dots appear and the scores are more consistently higher. It does appear that there are more Fails than Wins however, this is due to extreme over lapping of all the Winning scores. This is proven when the number of Wins and Fails are displayed. The model tends to achieve 6500-7500 wins each run."
   ],
   "metadata": {
    "collapsed": false,
    "pycharm": {
     "name": "#%% md\n"
    }
   }
  }
 ],
 "metadata": {
  "kernelspec": {
   "display_name": "Python 3",
   "language": "python",
   "name": "python3"
  },
  "language_info": {
   "codemirror_mode": {
    "name": "ipython",
    "version": 2
   },
   "file_extension": ".py",
   "mimetype": "text/x-python",
   "name": "python",
   "nbconvert_exporter": "python",
   "pygments_lexer": "ipython2",
   "version": "2.7.6"
  }
 },
 "nbformat": 4,
 "nbformat_minor": 0
}